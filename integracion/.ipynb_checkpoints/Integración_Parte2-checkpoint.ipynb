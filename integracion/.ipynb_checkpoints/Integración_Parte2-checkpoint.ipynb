{
 "cells": [
  {
   "cell_type": "markdown",
   "metadata": {},
   "source": [
    "# Romberg"
   ]
  },
  {
   "cell_type": "markdown",
   "metadata": {},
   "source": [
    "$$\n",
    "I=\\int_0^1 \\sin^2(100x)\n",
    "$$"
   ]
  },
  {
   "cell_type": "markdown",
   "metadata": {},
   "source": [
    "Comparemos nuestros métodos contra Romberg"
   ]
  },
  {
   "cell_type": "code",
   "execution_count": 1,
   "metadata": {},
   "outputs": [
    {
     "name": "stdout",
     "output_type": "stream",
     "text": [
      "0.2279182542270841\n",
      "0.45583160645166554\n",
      "0.45583253230908477\n"
     ]
    }
   ],
   "source": [
    "from numpy import *\n",
    "\n",
    "def trapecio(f,a,b,N):\n",
    "    h=(b-a)/N\n",
    "    s=0  #s=0.5*f(a)+0.5*f(b) metemos esto en el for\n",
    "    for k in range(1,N//2+1):\n",
    "        s+=f(a+(2*k-1)*h)\n",
    "    return s*h\n",
    "\n",
    "def simpson(f, a, b, n):\n",
    "    h=(b-a)/n\n",
    "    s=0.0\n",
    "    x=a + h\n",
    "    for i in range(1,n,2):\n",
    "        s += 4*f(x)\n",
    "        x += 2*h\n",
    "\n",
    "    x = a + 2*h\n",
    "    for i in range(2,n,2):\n",
    "        s += 2*f(x)\n",
    "        x += 2*h\n",
    "    return (h/3)*(f(a)+f(b)+s)\n",
    "\n",
    "\n",
    "def Romberg(f,a,b,epsilon=1e-6):\n",
    "    I = (b-a)/2*(f(b)+f(a)) #primer termino es trapecio\n",
    "    eps=1\n",
    "    N=1\n",
    "    R =zeros((100,100)) \n",
    "    R[0,0]=I\n",
    "    i=0\n",
    "    while eps>epsilon:\n",
    "        N*=2\n",
    "        i+=1\n",
    "        R[i,0] = R[i-1,0]/2 + trapecio(f,a,b,N)\n",
    "        for m in range(i):\n",
    "            R[i,m+1] =R[i,m] + 1/(4**(m+1)-1)*(R[i,m] - R[i-1,m])\n",
    "            eps = abs(R[i,m+1]-R[i-1,m])\n",
    "    I= R[i,m+1]\n",
    "    return I\n",
    "\n",
    "f=lambda x: sin(sqrt(100*x))**2\n",
    "\n",
    "\n",
    "\n",
    "print(trapecio(f,0,1.0,2000)) #Horrible\n",
    "print(simpson(f,0,1.0,200))\n",
    "print(Romberg(f,0,1.0,1e-16))"
   ]
  },
  {
   "cell_type": "code",
   "execution_count": 2,
   "metadata": {},
   "outputs": [],
   "source": [
    "# Integración Cuadratura Gaussiana"
   ]
  },
  {
   "cell_type": "code",
   "execution_count": 3,
   "metadata": {},
   "outputs": [],
   "source": [
    "from numpy import ones,copy,cos,tan,pi,linspace\n",
    "\n",
    "def gaussxw(N):\n",
    "\n",
    "    #Aproximación inicial de las raíces de los polinomios de Legendre\n",
    "    a = linspace(3,4*N-1,N)/(4*N+2)\n",
    "    x = cos(pi*a+1/(8*N*N*tan(a)))\n",
    "\n",
    "        # Encontramos ceros de Legendre con Newton-Raphson\n",
    "    epsilon = 1e-15\n",
    "    delta = 1.0\n",
    "    while delta>epsilon:\n",
    "        p0 = ones(N,float)\n",
    "        p1 = copy(x)\n",
    "        for k in range(1,N):\n",
    "            p0,p1 = p1,((2*k+1)*x*p1-k*p0)/(k+1)\n",
    "        dp = (N+1)*(p0-x*p1)/(1-x*x)\n",
    "        dx = p1/dp\n",
    "        x -= dx\n",
    "        delta = max(abs(dx))\n",
    "\n",
    "    # Calculando los pesos\n",
    "    w = 2*(N+1)*(N+1)/(N*N*(1-x*x)*dp*dp)\n",
    "    return x,w\n",
    "\n",
    "def gaussxwab(N,a,b):\n",
    "    x,w = gaussxw(N)\n",
    "    return 0.5*(b-a)*x+0.5*(b+a),0.5*(b-a)*w"
   ]
  },
  {
   "cell_type": "code",
   "execution_count": 4,
   "metadata": {},
   "outputs": [
    {
     "name": "stdout",
     "output_type": "stream",
     "text": [
      "4.4000000000000075\n"
     ]
    }
   ],
   "source": [
    "def f(x):\n",
    "    return x**4 - 2*x + 1\n",
    "\n",
    "N = 3\n",
    "a = 0.0\n",
    "b = 2.0\n",
    "\n",
    "x,w = gaussxw(N)\n",
    "xp = 0.5*(b-a)*x + 0.5*(b+a)\n",
    "wp = 0.5*(b-a)*w\n",
    "\n",
    "# Hacemos la integral\n",
    "s = 0.0\n",
    "for k in range(N):\n",
    "    s += wp[k]*f(xp[k])\n",
    "\n",
    "print(s)"
   ]
  },
  {
   "cell_type": "markdown",
   "metadata": {},
   "source": [
    "### Ejercicio: Capacidad calorífica de un Sólido"
   ]
  },
  {
   "cell_type": "markdown",
   "metadata": {},
   "source": [
    "La teoría de Debye de solidos dice que la capacidad calorífica de un sólido a temperatura T es:\n",
    "    $$C_v=9V \\rho k_B\\left( \\frac{T}{\\theta_D} \\right)^3 \\int_0^{\\theta_D/T} \\frac{x^4e^x}{(e^x-1)^2}dx$$\n",
    "donde $V$ es el volumen del sólido, $\\rho$ es la densidad numérica de lo átomos, $k_B$ es la constante de Boltzmann, y $\\theta_D$ es la temperatura de Debye, una propiedad de los sólidos que solo depende de la densidad y la velocidad del sonido.\n",
    "\n",
    "Escribamos una función $c_V(T)$ que calcule la capacidad calorífica de una temperatura dada, para una muestra de aluminio de 100 cm$^3$ con $\\rho$ = 6.022 $\\times$ 10$^{28}$ m$^{-3}$ y $\\theta_D$=428 K. Usa cuadratura gaussiana para evaluar la integral con $N=50$. Luego grafica tu función $c_V(T)$ para un rango de temperatura de T=5 K a T= 500 K\n"
   ]
  },
  {
   "cell_type": "code",
   "execution_count": 21,
   "metadata": {},
   "outputs": [],
   "source": [
    "import numpy as np\n",
    "import matplotlib.pyplot as plt"
   ]
  },
  {
   "cell_type": "code",
   "execution_count": 22,
   "metadata": {},
   "outputs": [],
   "source": [
    "rho = 6.022e28 #1/m^3\n",
    "thetaD = 428 #K\n",
    "V = 100e-6 #m^3\n",
    "kb = 1.38064852e-23"
   ]
  },
  {
   "cell_type": "code",
   "execution_count": 23,
   "metadata": {},
   "outputs": [],
   "source": [
    "def cv(T):\n",
    "    def f(x):\n",
    "        return np.exp(x)*x**4/(np.exp(x)-1)**2\n",
    "    N=50\n",
    "    integral = 0.0\n",
    "    xp,wp = gaussxwab(N,0,thetaD/T)\n",
    "    for k in range(N):\n",
    "        integral += wp[k]*f(xp[k])\n",
    "        \n",
    "    result = 9*V*rho*kb*(T/thetaD)**3 * integral\n",
    "    return result"
   ]
  },
  {
   "cell_type": "code",
   "execution_count": 24,
   "metadata": {},
   "outputs": [],
   "source": [
    "T = np.linspace(5,500)\n",
    "vals = []\n",
    "for t in T:\n",
    "    vals.append(cv(t))"
   ]
  },
  {
   "cell_type": "code",
   "execution_count": 27,
   "metadata": {},
   "outputs": [
    {
     "data": {
      "image/png": "[encoded data removed]",
      "text/plain": [
       "<Figure size 432x288 with 1 Axes>"
      ]
     },
     "metadata": {
      "needs_background": "light"
     },
     "output_type": "display_data"
    }
   ],
   "source": [
    "plt.plot(T,vals)\n",
    "plt.xlabel('T(K)')\n",
    "plt.ylabel('cV(T)')\n",
    "plt.grid()"
   ]
  },
  {
   "cell_type": "code",
   "execution_count": null,
   "metadata": {},
   "outputs": [],
   "source": []
  }
 ],
 "metadata": {
  "kernelspec": {
   "display_name": "Python 3",
   "language": "python",
   "name": "python3"
  },
  "language_info": {
   "codemirror_mode": {
    "name": "ipython",
    "version": 3
   },
   "file_extension": ".py",
   "mimetype": "text/x-python",
   "name": "python",
   "nbconvert_exporter": "python",
   "pygments_lexer": "ipython3",
   "version": "3.7.5"
  }
 },
 "nbformat": 4,
 "nbformat_minor": 2
}
