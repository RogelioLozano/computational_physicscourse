{
 "cells": [
  {
   "cell_type": "code",
   "execution_count": 1,
   "metadata": {},
   "outputs": [],
   "source": [
    "import numpy as np\n",
    "import pandas as pd\n",
    "import matplotlib.pyplot as plt\n",
    "import seaborn as sns\n",
    "sns.set()"
   ]
  },
  {
   "cell_type": "code",
   "execution_count": 1,
   "metadata": {},
   "outputs": [],
   "source": [
    "from numpy import sign\n",
    "def rootsearch(f,a,b,dx):\n",
    "    \"\"\"x1,x2 = rootsearch(f,a,b,dx).\n",
    "    Searches the interval (a,b) in increments dx for\n",
    "    the bounds (x1,x2) of the smallest root of f(x).\n",
    "    Returns x1 = x2 = None if no roots were detected.\"\"\"\n",
    "    \n",
    "    x1 = a; f1 = f(a)\n",
    "    x2 = a + dx; f2 = f(x2)\n",
    "    while sign(f1) == sign(f2):\n",
    "        if x1>=b:\n",
    "            return None,None\n",
    "        x1 = x2; f1 = f2\n",
    "        x2 = x1 + dx; f2 = f(x2)\n",
    "    else:\n",
    "        return x1,x2"
   ]
  },
  {
   "cell_type": "code",
   "execution_count": 2,
   "metadata": {},
   "outputs": [],
   "source": [
    "def bisection(f,a,b,epsilon=1e-7):\n",
    "    \"\"\"Computes approximate solution of f(x)=0 using bisection method\n",
    "    Input: function f, a,b, f(a)*f(b)<0 and tolerance epsilon\n",
    "    Output approximate solution  interval (xc-epsilon,xc+epsilon)\"\"\"\n",
    "    assert f(a)*f(b) < 0,\"Please make sure that the interval contains a root\"\n",
    "    while (b-a)/2 > epsilon:\n",
    "        c = (a+b)/2\n",
    "        if f(c)==0:\n",
    "            return c\n",
    "        if f(a)*f(c) < 0:\n",
    "            b=c\n",
    "        else:\n",
    "            a=c\n",
    "    return a,b"
   ]
  },
  {
   "cell_type": "code",
   "execution_count": 25,
   "metadata": {},
   "outputs": [],
   "source": [
    "f = lambda x: x**3+x-1"
   ]
  },
  {
   "cell_type": "code",
   "execution_count": 26,
   "metadata": {},
   "outputs": [],
   "source": [
    "I=bisection(f,0,1)"
   ]
  },
  {
   "cell_type": "code",
   "execution_count": 27,
   "metadata": {},
   "outputs": [
    {
     "data": {
      "text/plain": [
       "(0.6823277473449707, 0.6823278665542603)"
      ]
     },
     "execution_count": 27,
     "metadata": {},
     "output_type": "execute_result"
    }
   ],
   "source": [
    "I"
   ]
  },
  {
   "cell_type": "code",
   "execution_count": 54,
   "metadata": {},
   "outputs": [],
   "source": [
    "def newton(f,df,x0,epsilon=0.5e-7):\n",
    "    \"\"\"Computes approximate solution of f(x)=0 using newton's method\n",
    "    Input: function f, its derivative df, an initial guess x0 and tolerance epsilon\n",
    "    Output approximate solution xc\"\"\"\n",
    "    x1 = x0 - f(x0)/df(x0)\n",
    "    while abs(x1-x0) > epsilon:\n",
    "        x0=x1\n",
    "        x1 = x0 - f(x0)/df(x0)\n",
    "    return x1"
   ]
  },
  {
   "cell_type": "code",
   "execution_count": 55,
   "metadata": {},
   "outputs": [
    {
     "data": {
      "text/plain": [
       "0.6823278038280194"
      ]
     },
     "execution_count": 55,
     "metadata": {},
     "output_type": "execute_result"
    }
   ],
   "source": [
    "newton(f,lambda x:3*x**2+1,1)"
   ]
  },
  {
   "cell_type": "code",
   "execution_count": 88,
   "metadata": {},
   "outputs": [],
   "source": [
    "def secante(f,x0,x1,epsilon=0.5e-7):\n",
    "    \"\"\"Computes approximate solution of f(x)=0 using secante method\n",
    "    Input: function f, initial guesses x0 and x1 and tolerance epsilon\n",
    "    Output approximate solution xc\"\"\"\n",
    "    x2 = x1 - (f(x1)*(x1-x0))/(f(x1)-f(x0))\n",
    "    while abs(x2-x1)>epsilon:\n",
    "        x0 = x1\n",
    "        x1 = x2\n",
    "        x2 = x1 - (f(x1)*(x1-x0))/(f(x1)-f(x0))\n",
    "    return x2"
   ]
  },
  {
   "cell_type": "code",
   "execution_count": 89,
   "metadata": {},
   "outputs": [
    {
     "data": {
      "text/plain": [
       "0.6823278038280184"
      ]
     },
     "execution_count": 89,
     "metadata": {},
     "output_type": "execute_result"
    }
   ],
   "source": [
    "secante(f,0.,1)"
   ]
  },
  {
   "cell_type": "code",
   "execution_count": 93,
   "metadata": {},
   "outputs": [],
   "source": [
    "def ridder_root(f,a,b,tol=1.0e-9):\n",
    "    \n",
    "    assert f(a)*f(b) < 0, \"The interval does not have a root\"\n",
    "    fa = f(a)\n",
    "    fb = f(b)\n",
    "    if fa == 0.0:\n",
    "        return a\n",
    "    if fb == 0.0:\n",
    "        return b\n",
    "    \n",
    "    def processvalues(f,a,b):\n",
    "        x3 = (a+b)/2\n",
    "        fx3 = f(x3)\n",
    "        dx = x3-a\n",
    "        if (fa-fb)<0:\n",
    "            dx = -dx\n",
    "        x4 = x3 + dx*(fx3/np.sqrt(fx3**2 -fa*fb ))\n",
    "        fx4 = f(x4)\n",
    "        return x3,fx3,x4,fx4\n",
    "    x3,fx3,x4,fx4 = processvalues(f,a,b)\n",
    "    x_ant=x3\n",
    "    \n",
    "    while abs(x4-x_ant) > tol*max(abs(x4),1.0):\n",
    "        if np.sign(fx3) == np.sign(fx4):\n",
    "            if np.sign(fa)!= np.sign(fx4): b = x4; fb = fx4\n",
    "            else: a = x4; fa = fx4\n",
    "        else:\n",
    "            a = x3; b = x4; fa = fx3; fb = fx4\n",
    "        x_ant = x4\n",
    "        x3,fx3,x4,fx4 = processvalues(f,a,b)\n",
    "        \n",
    "    return x4"
   ]
  },
  {
   "cell_type": "code",
   "execution_count": 97,
   "metadata": {},
   "outputs": [
    {
     "data": {
      "text/plain": [
       "0.6823278038280194"
      ]
     },
     "execution_count": 97,
     "metadata": {},
     "output_type": "execute_result"
    }
   ],
   "source": [
    "ridder_root(f,0,1)"
   ]
  },
  {
   "cell_type": "code",
   "execution_count": 5,
   "metadata": {},
   "outputs": [
    {
     "data": {
      "text/plain": [
       "(1.1763113737106323, 1.1763114929199219)"
      ]
     },
     "execution_count": 5,
     "metadata": {},
     "output_type": "execute_result"
    }
   ],
   "source": [
    "def f(x):\n",
    "    return x**4 + (x/(1+x))**4-2\n",
    "bisection(f,1,2)"
   ]
  }
 ],
 "metadata": {
  "kernelspec": {
   "display_name": "Python 3.7.5 64-bit ('toughenv': conda)",
   "language": "python",
   "name": "python37564bittoughenvconda10c22ec9b2ab438aab78bd3ff93ae9c0"
  },
  "language_info": {
   "codemirror_mode": {
    "name": "ipython",
    "version": 3
   },
   "file_extension": ".py",
   "mimetype": "text/x-python",
   "name": "python",
   "nbconvert_exporter": "python",
   "pygments_lexer": "ipython3",
   "version": "3.7.5"
  }
 },
 "nbformat": 4,
 "nbformat_minor": 2
}
