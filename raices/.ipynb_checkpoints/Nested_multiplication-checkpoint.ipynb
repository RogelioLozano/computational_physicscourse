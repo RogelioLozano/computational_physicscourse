{
 "cells": [
  {
   "cell_type": "code",
   "execution_count": 1,
   "metadata": {},
   "outputs": [],
   "source": [
    "import numpy as np"
   ]
  },
  {
   "cell_type": "code",
   "execution_count": 2,
   "metadata": {},
   "outputs": [],
   "source": [
    "def nest(d,coeff,x,b=[]) -> float:\n",
    "    \"\"\"Evaluates polynomial from nested form using Horner’s Method\n",
    "    Input: degree d of polynomial,\n",
    "    array of d+1 coefficients coeff (constant term first),\n",
    "    x-coordinate x at which to evaluate, and\n",
    "    array of d base points b, if needed\n",
    "    Output: value y of polynomial at x\"\"\"\n",
    "    flag=False\n",
    "    if b == []:\n",
    "        b= np.ndarray((1,),dtype=object)\n",
    "        b[0] = [0]*d\n",
    "        flag=True\n",
    "    y= coeff[-1]\n",
    "    for i in range(d-1,-1,-1):\n",
    "        if flag:\n",
    "            y = y*(x-b[0][i]) + coeff[i]\n",
    "        else:\n",
    "            y = y*(x-b[i]) + coeff[i]\n",
    "    return y\n",
    "nest=np.vectorize(nest)"
   ]
  },
  {
   "cell_type": "code",
   "execution_count": 3,
   "metadata": {},
   "outputs": [],
   "source": [
    "coef = np.ndarray((1,), dtype=object)\n",
    "coef[0] = [-1,5,-3,3,2]"
   ]
  },
  {
   "cell_type": "code",
   "execution_count": 4,
   "metadata": {},
   "outputs": [
    {
     "data": {
      "text/plain": [
       "array([-15, -10,  -1,   6,  53])"
      ]
     },
     "execution_count": 4,
     "metadata": {},
     "output_type": "execute_result"
    }
   ],
   "source": [
    "nest(4,coef,np.array([-2,-1,0,1,2]))"
   ]
  },
  {
   "cell_type": "code",
   "execution_count": 5,
   "metadata": {},
   "outputs": [
    {
     "name": "stdout",
     "output_type": "stream",
     "text": [
      "51.01275208274999 Q: 51.01275208274523\n",
      "error: 4.760636329592671e-12\n"
     ]
    }
   ],
   "source": [
    "coef = np.ndarray((1,), dtype=object)\n",
    "coef[0] = np.ones(50)\n",
    "val_err=nest(50,coef,1.00001)\n",
    "otherexp = lambda x: (x**51-1)/(x-1) \n",
    "print(val_err[0],\"Q:\",otherexp(1.00001))\n",
    "error = val_err[0]-otherexp(1.00001)\n",
    "print(\"error:\",error)"
   ]
  },
  {
   "cell_type": "code",
   "execution_count": 6,
   "metadata": {},
   "outputs": [
    {
     "data": {
      "text/plain": [
       "array([10.25])"
      ]
     },
     "execution_count": 6,
     "metadata": {},
     "output_type": "execute_result"
    }
   ],
   "source": [
    "coef = np.ndarray((1,), dtype=object)\n",
    "coef[0] = [4,4,1,3,2]\n",
    "b = np.ndarray((1,), dtype=object)\n",
    "b[0] = [0,1,2,3]\n",
    "nest(4,coef,-1/2,b)"
   ]
  },
  {
   "cell_type": "code",
   "execution_count": null,
   "metadata": {},
   "outputs": [],
   "source": []
  }
 ],
 "metadata": {
  "kernelspec": {
   "display_name": "Python 3.7.5 64-bit ('toughenv': conda)",
   "language": "python",
   "name": "python37564bittoughenvconda10c22ec9b2ab438aab78bd3ff93ae9c0"
  },
  "language_info": {
   "codemirror_mode": {
    "name": "ipython",
    "version": 3
   },
   "file_extension": ".py",
   "mimetype": "text/x-python",
   "name": "python",
   "nbconvert_exporter": "python",
   "pygments_lexer": "ipython3",
   "version": "3.7.5"
  }
 },
 "nbformat": 4,
 "nbformat_minor": 2
}
