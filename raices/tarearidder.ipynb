{
 "cells": [
  {
   "cell_type": "code",
   "execution_count": 3,
   "metadata": {},
   "outputs": [],
   "source": [
    "import numpy as np\n",
    "\n",
    "def ridder_root(f,a,b,tol=1.0e-9):\n",
    "    \n",
    "    assert f(a)*f(b) < 0, \"The interval does not have a root\"\n",
    "    fa = f(a)\n",
    "    fb = f(b)\n",
    "    if fa == 0.0:\n",
    "        return a\n",
    "    if fb == 0.0:\n",
    "        return b\n",
    "    \n",
    "    def processvalues(f,a,b):\n",
    "        x3 = (a+b)/2\n",
    "        fx3 = f(x3)\n",
    "        dx = x3-a\n",
    "        if (fa-fb)<0:\n",
    "            dx = -dx\n",
    "        x4 = x3 + dx*(fx3/np.sqrt(fx3**2 -fa*fb ))\n",
    "        fx4 = f(x4)\n",
    "        return x3,fx3,x4,fx4\n",
    "    x3,fx3,x4,fx4 = processvalues(f,a,b)\n",
    "    x_ant=x3\n",
    "    \n",
    "    while abs(x4-x_ant) > tol*max(abs(x4),1.0):\n",
    "        if np.sign(fx3) == np.sign(fx4):\n",
    "            if np.sign(fa)!= np.sign(fx4): b = x4; fb = fx4\n",
    "            else: a = x4; fa = fx4\n",
    "        else:\n",
    "            a = x3; b = x4; fa = fx3; fb = fx4\n",
    "        x_ant = x4\n",
    "        x3,fx3,x4,fx4 = processvalues(f,a,b)\n",
    "        \n",
    "    return x4"
   ]
  },
  {
   "cell_type": "code",
   "execution_count": 4,
   "metadata": {},
   "outputs": [
    {
     "data": {
      "text/plain": [
       "8.881784197001252e-16"
      ]
     },
     "execution_count": 4,
     "metadata": {},
     "output_type": "execute_result"
    }
   ],
   "source": [
    "f = lambda x: x**3-10*x**2+5\n",
    "x0 = ridder_root(f,0.6,0.8)\n",
    "f(x0)"
   ]
  },
  {
   "cell_type": "code",
   "execution_count": null,
   "metadata": {},
   "outputs": [],
   "source": []
  }
 ],
 "metadata": {
  "kernelspec": {
   "display_name": "Python 3.7.5 64-bit ('toughenv': conda)",
   "language": "python",
   "name": "python37564bittoughenvconda10c22ec9b2ab438aab78bd3ff93ae9c0"
  },
  "language_info": {
   "codemirror_mode": {
    "name": "ipython",
    "version": 3
   },
   "file_extension": ".py",
   "mimetype": "text/x-python",
   "name": "python",
   "nbconvert_exporter": "python",
   "pygments_lexer": "ipython3",
   "version": "3.7.5"
  }
 },
 "nbformat": 4,
 "nbformat_minor": 2
}
