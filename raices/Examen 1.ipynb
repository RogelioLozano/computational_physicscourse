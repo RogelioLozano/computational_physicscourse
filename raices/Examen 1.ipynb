{
 "cells": [
  {
   "cell_type": "code",
   "execution_count": 1,
   "metadata": {},
   "outputs": [],
   "source": [
    "import numpy as np\n",
    "import pandas as pd\n",
    "from find_errors import errorOf"
   ]
  },
  {
   "cell_type": "markdown",
   "metadata": {},
   "source": [
    "### 1)"
   ]
  },
  {
   "cell_type": "markdown",
   "metadata": {},
   "source": [
    "<img src=\"IMG_2965.jpg\">\n",
    "\n",
    "<img src=\"IMG_2966.jpg\">\n",
    "\n",
    "<img src=\"IMG_2967.jpg\">\n",
    "\n",
    "<img src=\"IMG_2968.jpg\">\n"
   ]
  },
  {
   "cell_type": "code",
   "execution_count": 3,
   "metadata": {},
   "outputs": [],
   "source": [
    "def binaria(x,k=20):\n",
    "    if type(x) == int:\n",
    "        if x < 0:\n",
    "            x = -x\n",
    "            print(\"La lista de output debe considerarse como un numero binario negativo\")\n",
    "        binario = []\n",
    "        while x > 0:\n",
    "            binario.append(x%2)\n",
    "            x = x//2\n",
    "        binario.reverse()\n",
    "        return binario\n",
    "    else:\n",
    "        binario_entera = binaria(int(x),k)\n",
    "        fraccion = x-int(x)\n",
    "        binario_fraccion = []\n",
    "        for i in range(k):\n",
    "            fraccion = fraccion*2\n",
    "            ent = int(fraccion)\n",
    "            binario_fraccion.append(ent)\n",
    "            fraccion = fraccion-ent\n",
    "        return binario_entera, binario_fraccion"
   ]
  },
  {
   "cell_type": "code",
   "execution_count": 4,
   "metadata": {},
   "outputs": [
    {
     "data": {
      "text/plain": [
       "([1, 1, 1, 0, 1, 0, 0, 1],\n",
       " [0, 1, 0, 1, 0, 1, 0, 0, 0, 1, 1, 1, 1, 0, 1, 0, 1, 1, 1, 0])"
      ]
     },
     "execution_count": 4,
     "metadata": {},
     "output_type": "execute_result"
    }
   ],
   "source": [
    "binaria(233.33) # Regresa la parte entera a la izquierda y la fraccionaria a la derecha."
   ]
  },
  {
   "cell_type": "code",
   "execution_count": 5,
   "metadata": {},
   "outputs": [],
   "source": [
    "def decimal(num_binario):\n",
    "    d=0\n",
    "    for j,n in enumerate(num_binario):\n",
    "        d += n/(2**(j+1))\n",
    "    return d"
   ]
  },
  {
   "cell_type": "code",
   "execution_count": 6,
   "metadata": {},
   "outputs": [
    {
     "data": {
      "text/plain": [
       "0.09999942779541016"
      ]
     },
     "execution_count": 6,
     "metadata": {},
     "output_type": "execute_result"
    }
   ],
   "source": [
    "decimal(binaria(0.1)[1])"
   ]
  },
  {
   "cell_type": "code",
   "execution_count": 7,
   "metadata": {},
   "outputs": [],
   "source": [
    "raiz2_binario=binaria(np.sqrt(2))\n",
    "s = \".\"\n",
    "for i in raiz2_binario[1]:\n",
    "    s += str(i)\n",
    "s = float(s)"
   ]
  },
  {
   "cell_type": "code",
   "execution_count": 8,
   "metadata": {},
   "outputs": [
    {
     "name": "stdout",
     "output_type": "stream",
     "text": [
      "Error procentual: 9.092641465355561e-10 %, usando una precisión en la forma binaria de raiz de 2 de k=20 cifras significatvias\n"
     ]
    }
   ],
   "source": [
    "print(\"Error procentual:\",abs(s-0.0110101)/s * 100,\"%, usando una precisión en la forma binaria de raiz de 2 de k=20 cifras significatvias\") "
   ]
  },
  {
   "cell_type": "code",
   "execution_count": 9,
   "metadata": {},
   "outputs": [
    {
     "data": {
      "text/plain": [
       "0.14159202575683594"
      ]
     },
     "execution_count": 9,
     "metadata": {},
     "output_type": "execute_result"
    }
   ],
   "source": [
    "pi_binario = binaria(np.pi)\n",
    "decimal(pi_binario[1]) # parte decimal"
   ]
  },
  {
   "cell_type": "code",
   "execution_count": 10,
   "metadata": {},
   "outputs": [
    {
     "name": "stdout",
     "output_type": "stream",
     "text": [
      "Error procentual: 8.880009776124563e-06 %, usando una precisión en la forma binaria de pi de k=20 cifras significatvias\n"
     ]
    }
   ],
   "source": [
    "s = \".\"\n",
    "for i in pi_binario[1]:\n",
    "    s += str(i)\n",
    "s = float(s)\n",
    "print(\"Error procentual:\",abs(s-0.0010010001)/s * 100,\"%, usando una precisión en la forma binaria de pi de k=20 cifras significatvias\") "
   ]
  },
  {
   "cell_type": "code",
   "execution_count": 12,
   "metadata": {},
   "outputs": [
    {
     "data": {
      "text/plain": [
       "3.141592653589793e-16"
      ]
     },
     "execution_count": 12,
     "metadata": {},
     "output_type": "execute_result"
    }
   ],
   "source": [
    "errorOf(np.pi)"
   ]
  },
  {
   "cell_type": "code",
   "execution_count": 13,
   "metadata": {},
   "outputs": [
    {
     "data": {
      "text/plain": [
       "1.414213562373095e-16"
      ]
     },
     "execution_count": 13,
     "metadata": {},
     "output_type": "execute_result"
    }
   ],
   "source": [
    "errorOf(np.sqrt(2))"
   ]
  },
  {
   "cell_type": "markdown",
   "metadata": {},
   "source": [
    "Modificaciones: \n",
    "\n",
    "(Estas cosas me faltaron agregar en el otro notebook del classroom por el tiempo, solo son detalles: ya estaba todo lo importante allá)\n",
    "\n",
    "+ Importe una funcion del modulo que te comente que cree: from find_errors import errorOf\n",
    "+ Agregue una prueba para las que convierten de binario a decimal y viceversa\n",
    "+ Agregue la parte del inciso 4 del problema 1, i.e. la conversion de la raiz de 2 y pi a binario y la resta y calcular el error porcentual.\n",
    "+ Corregi el orden de iteracion en la funcion decimal\n"
   ]
  },
  {
   "cell_type": "markdown",
   "metadata": {},
   "source": [
    "### 3)"
   ]
  },
  {
   "cell_type": "code",
   "execution_count": 9,
   "metadata": {},
   "outputs": [],
   "source": [
    "def inverso_tan_hip(u):\n",
    "    \n",
    "    def newton(f, df, x, epsilon=1e-10):\n",
    "        ff = f(x)\n",
    "        res = [[x, ff, np.nan]]\n",
    "        xn = x\n",
    "        while True:\n",
    "            xnp1 = xn - ff / df(xn)\n",
    "            ff = f(xnp1)\n",
    "            res.append([xnp1, ff, xnp1-xn])\n",
    "            if abs(ff) < epsilon:\n",
    "                break\n",
    "            xn = xnp1\n",
    "        return res\n",
    "    \n",
    "    def poli(x):\n",
    "        return np.tanh(x)-u\n",
    "    def Dpoli(x):\n",
    "        return 1/np.cosh(x)\n",
    "    \n",
    "    res = newton(poli,Dpoli,0)\n",
    "    \n",
    "    return res"
   ]
  },
  {
   "cell_type": "code",
   "execution_count": 10,
   "metadata": {},
   "outputs": [
    {
     "data": {
      "text/html": [
       "<div>\n",
       "<style scoped>\n",
       "    .dataframe tbody tr th:only-of-type {\n",
       "        vertical-align: middle;\n",
       "    }\n",
       "\n",
       "    .dataframe tbody tr th {\n",
       "        vertical-align: top;\n",
       "    }\n",
       "\n",
       "    .dataframe thead th {\n",
       "        text-align: right;\n",
       "    }\n",
       "</style>\n",
       "<table border=\"1\" class=\"dataframe\">\n",
       "  <thead>\n",
       "    <tr style=\"text-align: right;\">\n",
       "      <th></th>\n",
       "      <th>$x_n$</th>\n",
       "      <th>$f(x_n)$</th>\n",
       "      <th>$x_n - x_{n-1}$</th>\n",
       "    </tr>\n",
       "  </thead>\n",
       "  <tbody>\n",
       "    <tr>\n",
       "      <th>0</th>\n",
       "      <td>0.000000</td>\n",
       "      <td>-1.000000e+00</td>\n",
       "      <td>NaN</td>\n",
       "    </tr>\n",
       "    <tr>\n",
       "      <th>1</th>\n",
       "      <td>1.000000</td>\n",
       "      <td>-2.384058e-01</td>\n",
       "      <td>1.000000</td>\n",
       "    </tr>\n",
       "    <tr>\n",
       "      <th>2</th>\n",
       "      <td>1.367879</td>\n",
       "      <td>-1.217920e-01</td>\n",
       "      <td>0.367879</td>\n",
       "    </tr>\n",
       "    <tr>\n",
       "      <th>3</th>\n",
       "      <td>1.622526</td>\n",
       "      <td>-7.501021e-02</td>\n",
       "      <td>0.254646</td>\n",
       "    </tr>\n",
       "    <tr>\n",
       "      <th>4</th>\n",
       "      <td>1.819925</td>\n",
       "      <td>-5.116903e-02</td>\n",
       "      <td>0.197399</td>\n",
       "    </tr>\n",
       "    <tr>\n",
       "      <th>...</th>\n",
       "      <td>...</td>\n",
       "      <td>...</td>\n",
       "      <td>...</td>\n",
       "    </tr>\n",
       "    <tr>\n",
       "      <th>141411</th>\n",
       "      <td>11.859477</td>\n",
       "      <td>-1.000044e-10</td>\n",
       "      <td>0.000007</td>\n",
       "    </tr>\n",
       "    <tr>\n",
       "      <th>141412</th>\n",
       "      <td>11.859484</td>\n",
       "      <td>-1.000030e-10</td>\n",
       "      <td>0.000007</td>\n",
       "    </tr>\n",
       "    <tr>\n",
       "      <th>141413</th>\n",
       "      <td>11.859491</td>\n",
       "      <td>-1.000016e-10</td>\n",
       "      <td>0.000007</td>\n",
       "    </tr>\n",
       "    <tr>\n",
       "      <th>141414</th>\n",
       "      <td>11.859498</td>\n",
       "      <td>-1.000002e-10</td>\n",
       "      <td>0.000007</td>\n",
       "    </tr>\n",
       "    <tr>\n",
       "      <th>141415</th>\n",
       "      <td>11.859505</td>\n",
       "      <td>-9.999879e-11</td>\n",
       "      <td>0.000007</td>\n",
       "    </tr>\n",
       "  </tbody>\n",
       "</table>\n",
       "<p>141416 rows × 3 columns</p>\n",
       "</div>"
      ],
      "text/plain": [
       "            $x_n$      $f(x_n)$  $x_n - x_{n-1}$\n",
       "0        0.000000 -1.000000e+00              NaN\n",
       "1        1.000000 -2.384058e-01         1.000000\n",
       "2        1.367879 -1.217920e-01         0.367879\n",
       "3        1.622526 -7.501021e-02         0.254646\n",
       "4        1.819925 -5.116903e-02         0.197399\n",
       "...           ...           ...              ...\n",
       "141411  11.859477 -1.000044e-10         0.000007\n",
       "141412  11.859484 -1.000030e-10         0.000007\n",
       "141413  11.859491 -1.000016e-10         0.000007\n",
       "141414  11.859498 -1.000002e-10         0.000007\n",
       "141415  11.859505 -9.999879e-11         0.000007\n",
       "\n",
       "[141416 rows x 3 columns]"
      ]
     },
     "execution_count": 10,
     "metadata": {},
     "output_type": "execute_result"
    }
   ],
   "source": [
    "pd.DataFrame(inverso_tan_hip(1), columns=[\"$x_n$\", \"$f(x_n)$\", \"$x_n - x_{n-1}$\"])"
   ]
  },
  {
   "cell_type": "code",
   "execution_count": null,
   "metadata": {},
   "outputs": [],
   "source": []
  }
 ],
 "metadata": {
  "kernelspec": {
   "display_name": "Python 3.7.5 64-bit ('toughenv': conda)",
   "language": "python",
   "name": "python37564bittoughenvconda10c22ec9b2ab438aab78bd3ff93ae9c0"
  },
  "language_info": {
   "codemirror_mode": {
    "name": "ipython",
    "version": 3
   },
   "file_extension": ".py",
   "mimetype": "text/x-python",
   "name": "python",
   "nbconvert_exporter": "python",
   "pygments_lexer": "ipython3",
   "version": "3.7.5"
  }
 },
 "nbformat": 4,
 "nbformat_minor": 2
}
