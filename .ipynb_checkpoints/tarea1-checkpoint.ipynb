{
 "cells": [
  {
   "cell_type": "code",
   "execution_count": 1,
   "metadata": {},
   "outputs": [],
   "source": [
    "import numpy as np\n",
    "import matplotlib.pyplot as plt\n",
    "import math as m\n",
    "import timeit"
   ]
  },
  {
   "cell_type": "markdown",
   "metadata": {},
   "source": [
    "## Problema 1"
   ]
  },
  {
   "cell_type": "code",
   "execution_count": 9,
   "metadata": {},
   "outputs": [],
   "source": [
    "def fibonacci(n):\n",
    "    assert n > 0, \"Enter number greater or equal than zero\"\n",
    "    if n == 0 or n==1:\n",
    "        return n\n",
    "    else:\n",
    "        an = fibonacci(n-1) + fibonacci(n-2)\n",
    "        return an\n",
    "\n",
    "# decorator that returns a wrapped version of fibbonaci using memoization algorithm.\n",
    "def memoize(function):\n",
    "    cache = dict()\n",
    "\n",
    "    def memoizedf(*args):\n",
    "        if args in cache: # If n term of fib sequence is already in chache, return it.\n",
    "            return cache[args]\n",
    "        tmp = function(*args) #Otherwise, compute that term and store the result in chache. \n",
    "        cache[args] = tmp\n",
    "        return tmp\n",
    "\n",
    "    return memoizedf\n",
    "memoize_fib = memoize(fibonacci)\n",
    "\n",
    "# For convenience, I'll use python's decorator implementation from the standard library because it converts the problem\n",
    "# into a dynamic programming solution, but the essential idea is up there.\n",
    "\n",
    "import functools\n",
    "\n",
    "@functools.lru_cache(maxsize=200)\n",
    "def fibonacci(n):\n",
    "    assert n >= 0, \"Enter number greater or equal than zero\"\n",
    "    if n == 0 or n==1:\n",
    "        return n\n",
    "    else:\n",
    "        an = fibonacci(n-1) + fibonacci(n-2)\n",
    "        return an"
   ]
  },
  {
   "cell_type": "code",
   "execution_count": 8,
   "metadata": {},
   "outputs": [
    {
     "name": "stdout",
     "output_type": "stream",
     "text": [
      "0\n",
      "\n",
      "1\n",
      "\n",
      "1\n",
      "\n",
      "2\n",
      "\n",
      "3\n",
      "\n",
      "5\n",
      "\n",
      "8\n",
      "\n",
      "13\n",
      "\n",
      "21\n",
      "\n",
      "34\n",
      "\n",
      "55\n",
      "\n",
      "89\n",
      "\n",
      "144\n",
      "\n",
      "233\n",
      "\n",
      "377\n",
      "\n",
      "610\n",
      "\n",
      "987\n",
      "\n",
      "1597\n",
      "\n",
      "2584\n",
      "\n",
      "4181\n",
      "\n",
      "6765\n",
      "\n",
      "10946\n",
      "\n",
      "17711\n",
      "\n",
      "28657\n",
      "\n",
      "46368\n",
      "\n",
      "75025\n",
      "\n",
      "121393\n",
      "\n",
      "196418\n",
      "\n",
      "317811\n",
      "\n",
      "514229\n",
      "\n",
      "832040\n",
      "\n",
      "1346269\n",
      "\n",
      "2178309\n",
      "\n",
      "3524578\n",
      "\n",
      "5702887\n",
      "\n",
      "9227465\n",
      "\n",
      "14930352\n",
      "\n",
      "24157817\n",
      "\n",
      "39088169\n",
      "\n",
      "63245986\n",
      "\n",
      "102334155\n",
      "\n",
      "165580141\n",
      "\n",
      "267914296\n",
      "\n",
      "433494437\n",
      "\n",
      "701408733\n",
      "\n",
      "1134903170\n",
      "\n",
      "1836311903\n",
      "\n",
      "2971215073\n",
      "\n",
      "4807526976\n",
      "\n",
      "7778742049\n",
      "\n",
      "12586269025\n",
      "\n",
      "20365011074\n",
      "\n",
      "32951280099\n",
      "\n",
      "53316291173\n",
      "\n",
      "86267571272\n",
      "\n",
      "139583862445\n",
      "\n",
      "225851433717\n",
      "\n",
      "365435296162\n",
      "\n",
      "591286729879\n",
      "\n",
      "956722026041\n",
      "\n",
      "1548008755920\n",
      "\n",
      "2504730781961\n",
      "\n",
      "4052739537881\n",
      "\n",
      "6557470319842\n",
      "\n",
      "10610209857723\n",
      "\n",
      "17167680177565\n",
      "\n",
      "27777890035288\n",
      "\n",
      "44945570212853\n",
      "\n",
      "72723460248141\n",
      "\n",
      "117669030460994\n",
      "\n",
      "190392490709135\n",
      "\n",
      "308061521170129\n",
      "\n",
      "498454011879264\n",
      "\n",
      "806515533049393\n",
      "\n",
      "1304969544928657\n",
      "\n",
      "2111485077978050\n",
      "\n",
      "3416454622906707\n",
      "\n",
      "5527939700884757\n",
      "\n",
      "8944394323791464\n",
      "\n",
      "14472334024676221\n",
      "\n",
      "23416728348467685\n",
      "\n",
      "37889062373143906\n",
      "\n",
      "61305790721611591\n",
      "\n",
      "99194853094755497\n",
      "\n",
      "160500643816367088\n",
      "\n",
      "259695496911122585\n",
      "\n",
      "420196140727489673\n",
      "\n",
      "679891637638612258\n",
      "\n",
      "1100087778366101931\n",
      "\n",
      "1779979416004714189\n",
      "\n",
      "2880067194370816120\n",
      "\n",
      "4660046610375530309\n",
      "\n",
      "7540113804746346429\n",
      "\n",
      "12200160415121876738\n",
      "\n",
      "19740274219868223167\n",
      "\n",
      "31940434634990099905\n",
      "\n",
      "51680708854858323072\n",
      "\n",
      "83621143489848422977\n",
      "\n",
      "135301852344706746049\n",
      "\n",
      "218922995834555169026\n",
      "\n",
      "354224848179261915075\n",
      "\n"
     ]
    }
   ],
   "source": [
    "for i in list(map(fibonacci,range(101))):\n",
    "    print(str(i)+'\\n')"
   ]
  },
  {
   "cell_type": "markdown",
   "metadata": {},
   "source": [
    "## Problema 2\n",
    "There are tree approaches, first, using the fact that I know the limit of the series, secondly, setting a limit on the number of terms to sum, and thirdly, using a precision factor. I'll use the second one."
   ]
  },
  {
   "cell_type": "code",
   "execution_count": 60,
   "metadata": {},
   "outputs": [],
   "source": [
    "class Series(object):\n",
    "    def __init__(self,numterms,func):\n",
    "        super().__init__()\n",
    "        self.numterms = numterms\n",
    "        self.func = func\n",
    "        self.terms = list(map(self.func,range(1,self.numterms)))\n",
    "        self.partialsums = list(np.cumsum(self.terms))\n",
    "        self.limitsum = sum(self.terms)\n",
    "    \n",
    "    def get_terms(self):\n",
    "        return self.terms\n",
    "    def partialsums(self):\n",
    "        return self.partialsums\n",
    "    def limitsum(self):\n",
    "        return self.limitsum\n",
    "\n",
    "    def __str__(self):\n",
    "        return \"Number of terms in the series:\"+str(self.numterms)+\" sum:\"+str(self.limitsum) "
   ]
  },
  {
   "cell_type": "code",
   "execution_count": 129,
   "metadata": {},
   "outputs": [],
   "source": [
    "geometric_terms = lambda n: 1/2**n\n",
    "geometric_series = Series(100,geometric_terms)"
   ]
  },
  {
   "cell_type": "code",
   "execution_count": 130,
   "metadata": {},
   "outputs": [
    {
     "name": "stdout",
     "output_type": "stream",
     "text": [
      "Number of terms in the series:100 sum:1.0\n"
     ]
    }
   ],
   "source": [
    "print(geometric_series)"
   ]
  },
  {
   "cell_type": "markdown",
   "metadata": {},
   "source": [
    "## Problema 3"
   ]
  },
  {
   "cell_type": "code",
   "execution_count": 131,
   "metadata": {},
   "outputs": [
    {
     "data": {
      "text/plain": [
       "[0, 1, 2, 3, 4, 5, 6, 7, 8, 9]"
      ]
     },
     "execution_count": 131,
     "metadata": {},
     "output_type": "execute_result"
    }
   ],
   "source": [
    "list(range(10))"
   ]
  },
  {
   "cell_type": "code",
   "execution_count": 134,
   "metadata": {},
   "outputs": [
    {
     "name": "stdout",
     "output_type": "stream",
     "text": [
      "[-1.0, 0.0]\n",
      "[-1.0, 0.0, 1.0]\n",
      "[-1.0, 0.0, 1.0, 4.0]\n",
      "[-1.0, 0.0, 1.0, 4.0, 9.0]\n",
      "[-1.0, 0.0, 1.0, 4.0, 9.0, 16.0]\n",
      "[-1.0, 0.0, 1.0, 4.0, 9.0, 16.0, 25.0]\n",
      "[-1.0, 0.0, 1.0, 4.0, 9.0, 16.0, 25.0, 36.0]\n",
      "[-1.0, 0.0, 1.0, 4.0, 9.0, 16.0, 25.0, 36.0, 49.0]\n",
      "[-1.0, 0.0, 1.0, 4.0, 9.0, 16.0, 25.0, 36.0, 49.0, 64.0]\n",
      "[-1.0, 0.0, 1.0, 4.0, 9.0, 16.0, 25.0, 36.0, 49.0, 64.0, 81.0]\n"
     ]
    }
   ],
   "source": [
    "tmp = 1.0\n",
    "l = [-1.0,0.0]\n",
    "for i in range(1,11):\n",
    "    print(l)\n",
    "    l.append(tmp+l[i])\n",
    "    tmp += 2\n"
   ]
  },
  {
   "cell_type": "markdown",
   "metadata": {},
   "source": [
    "## Problema 4"
   ]
  },
  {
   "cell_type": "code",
   "execution_count": 163,
   "metadata": {},
   "outputs": [],
   "source": [
    "from numpy.random import choice\n",
    "interval = np.arange(0.01,0.21,0.01)\n",
    "s = 0\n",
    "suc = []\n",
    "while s < 1.50:\n",
    "    randnum = choice(interval)\n",
    "    s += randnum\n",
    "    suc.append(randnum)"
   ]
  },
  {
   "cell_type": "code",
   "execution_count": 164,
   "metadata": {},
   "outputs": [
    {
     "data": {
      "text/plain": [
       "[0.2,\n",
       " 0.03,\n",
       " 0.01,\n",
       " 0.11,\n",
       " 0.05,\n",
       " 0.08,\n",
       " 0.03,\n",
       " 0.04,\n",
       " 0.18000000000000002,\n",
       " 0.18000000000000002,\n",
       " 0.2,\n",
       " 0.13,\n",
       " 0.14,\n",
       " 0.17]"
      ]
     },
     "execution_count": 164,
     "metadata": {},
     "output_type": "execute_result"
    }
   ],
   "source": [
    "suc"
   ]
  },
  {
   "cell_type": "markdown",
   "metadata": {},
   "source": [
    "## Problema 5"
   ]
  },
  {
   "cell_type": "code",
   "execution_count": 166,
   "metadata": {},
   "outputs": [],
   "source": [
    "def triangulares1(n):\n",
    "    assert n>0\n",
    "    if n==1:\n",
    "        return n\n",
    "    else:\n",
    "        return triangulares1(n-1)+n"
   ]
  },
  {
   "cell_type": "code",
   "execution_count": 169,
   "metadata": {},
   "outputs": [
    {
     "data": {
      "text/plain": [
       "[1, 3, 6, 10, 15, 21, 28, 36, 45, 55]"
      ]
     },
     "execution_count": 169,
     "metadata": {},
     "output_type": "execute_result"
    }
   ],
   "source": [
    "[triangulares1(e) for e in range(1,11)]"
   ]
  },
  {
   "cell_type": "markdown",
   "metadata": {},
   "source": [
    "## Problema 6"
   ]
  },
  {
   "cell_type": "code",
   "execution_count": 4,
   "metadata": {},
   "outputs": [
    {
     "name": "stdout",
     "output_type": "stream",
     "text": [
      "T= 0.7301261363877617 R= 0.26987386361223814\n",
      "T+R= 0.9999999999999998\n"
     ]
    }
   ],
   "source": [
    "mass = 9.11e-31 #kg\n",
    "energy = 10*1.602176634e-19 #joules\n",
    "hbar = 3.16152649e-26 # J.m\n",
    "poten = 9*1.602176634e-19 #joules\n",
    "\n",
    "k1 = m.sqrt( 2*mass*energy )/hbar\n",
    "k2 = m.sqrt( 2*mass*(energy-poten) )/hbar\n",
    "\n",
    "T = (4*k1*k2)/(k1+k2)**2\n",
    "R = ( (k1-k2)/(k1+k2) )**2\n",
    "print(\"T=\",T,\"R=\",R  )\n",
    "print(\"T+R=\",T+R)"
   ]
  },
  {
   "cell_type": "markdown",
   "metadata": {},
   "source": [
    "## Problema 7"
   ]
  },
  {
   "cell_type": "code",
   "execution_count": 4,
   "metadata": {},
   "outputs": [
    {
     "name": "stdout",
     "output_type": "stream",
     "text": [
      "(0.2361111111111111, 3)\n"
     ]
    }
   ],
   "source": [
    "# ii)\n",
    "def succesive_aprox(epsilon,coeff,init):\n",
    "    \"\"\"\n",
    "    Assumes init(float) the starting point, epsilon a float representing a precision factor, coeff a tuple of coeffientes of the          general quadratic equation:\n",
    "    ax**2 + bx + c = 0, where a,b,c = coeff[0],coeff[1],coeff[2]\n",
    "    Returns the approximate solution of the equation and the number of attempts necessary for the corresponding precision\n",
    "    \"\"\"\n",
    "    x = init\n",
    "    num_iter = 0\n",
    "    while abs(coeff[0]*x**2 + coeff[1]*x + coeff[2]) > epsilon:\n",
    "        xn = 1/(4+x)\n",
    "        x = xn\n",
    "        num_iter += 1\n",
    "    return (x,num_iter)\n",
    "# i)\n",
    "parameters = (1,4,-1)\n",
    "print(succesive_aprox(0.001,parameters,0))"
   ]
  },
  {
   "cell_type": "markdown",
   "metadata": {},
   "source": [
    "## Problema 8. "
   ]
  },
  {
   "cell_type": "code",
   "execution_count": 19,
   "metadata": {},
   "outputs": [
    {
     "name": "stdout",
     "output_type": "stream",
     "text": [
      "Enter the mass A: 58\n",
      "Enter the atomic number Z: 28\n",
      "The binding energy for an atom with A= 58 and Z= 28 is approximately 497.5620206224374 MeV\n",
      "Binding energy for nucleon: 8.578655527973059\n",
      "Most stable nucleus binding energy=8.432655535147047 and mass number A=56\n"
     ]
    }
   ],
   "source": [
    "A = int(input(\"Enter the mass A: \"))\n",
    "Z = int(input(\"Enter the atomic number Z: \"))\n",
    "a1 = 15.8\n",
    "a2 = 18.3\n",
    "a3 = 0.714\n",
    "a4 = 23.2\n",
    "\n",
    "def binding_nuclear(A,Z):\n",
    "    if A%2 != 0:\n",
    "        a5 = 0\n",
    "    elif Z%2 == 0:\n",
    "        a5 = 12\n",
    "    else:\n",
    "        a5 = -12\n",
    "    B = a1*A - a2*m.pow(A,2/3) - a3*(Z**2/m.pow(A,1/3)) - a4*( m.pow(A-2*Z,2)/A ) + a5/m.pow(A,1/2)\n",
    "    return B\n",
    "\n",
    "def stable_nucleus(Z):\n",
    "    values = [Z,2*Z,3*Z]\n",
    "    res = []\n",
    "    for A in values:\n",
    "        res.append(binding_nuclear(A,Z)/A)\n",
    "    return max(res),values[res.index(max(res))]\n",
    "\n",
    "print(\"The binding energy for an atom with A=\",A,\"and Z=\",Z, \"is approximately\",binding_nuclear(A,Z),\"MeV\")\n",
    "print(\"Binding energy for nucleon:\",binding_nuclear(A,Z)/A)\n",
    "print(\"Most stable nucleus binding energy={:} and mass number A={:}\".format(*stable_nucleus(Z)))"
   ]
  },
  {
   "cell_type": "markdown",
   "metadata": {},
   "source": [
    "## Problema 9"
   ]
  },
  {
   "cell_type": "code",
   "execution_count": 269,
   "metadata": {},
   "outputs": [],
   "source": [
    "def Mandelung_constant(L):\n",
    "    M = np.zeros((L,L,L))\n",
    "    center = (M.shape[0]//2,M.shape[1]//2,M.shape[2]//2)\n",
    "    grid_x, grid_y, grid_z = np.mgrid[0:M.shape[0], 0:M.shape[1], 0:M.shape[2]]\n",
    "    grid_x = grid_x - center[0]\n",
    "    grid_y = grid_y - center[1]\n",
    "    grid_z = grid_z - center[2]\n",
    "    distances = np.sqrt(grid_x**2+grid_y**2+grid_z**2)\n",
    "    distances = np.divide( (-1.)**(grid_x+grid_y+grid_z+1) ,distances,where=distances!=0 )\n",
    "    return distances.sum()"
   ]
  },
  {
   "cell_type": "code",
   "execution_count": 274,
   "metadata": {},
   "outputs": [
    {
     "name": "stdout",
     "output_type": "stream",
     "text": [
      "L= 10 Mandelung constant= 1.7475005023414605\n",
      "L= 20 Mandelung constant= 1.7475686037718112\n",
      "L= 200 Mandelung constant= 1.747564595034225\n"
     ]
    }
   ],
   "source": [
    "for L in [10,20,200]:\n",
    "    print(\"L=\",L,\"Mandelung constant=\",Mandelung_constant(L))"
   ]
  },
  {
   "cell_type": "code",
   "execution_count": 281,
   "metadata": {},
   "outputs": [
    {
     "name": "stdout",
     "output_type": "stream",
     "text": [
      "elapsed time with L=10: 0.0001297004600019136\n",
      "elapsed tim with L=20: 0.0006158593999953155\n",
      "elapsed time with L=200: 0.7809800218333597\n"
     ]
    }
   ],
   "source": [
    "testcode10=\"\"\"\n",
    "import numpy as np\n",
    "import math as m\n",
    "import timeit\n",
    "def Mandelung_constant(L):\n",
    "    M = np.zeros((L,L,L))\n",
    "    center = (M.shape[0]//2,M.shape[1]//2,M.shape[2]//2)\n",
    "    grid_x, grid_y, grid_z = np.mgrid[0:M.shape[0], 0:M.shape[1], 0:M.shape[2]]\n",
    "    grid_x = grid_x - center[0]\n",
    "    grid_y = grid_y - center[1]\n",
    "    grid_z = grid_z - center[2]\n",
    "    distances = np.sqrt(grid_x**2+grid_y**2+grid_z**2)\n",
    "    distances = np.divide( (-1.)**(grid_x+grid_y+grid_z+1) ,distances,where=distances!=0 )\n",
    "    return distances.sum()\n",
    "m10=Mandelung_constant(10)\n",
    "    \"\"\"\n",
    "testcode20=\"\"\"\n",
    "import numpy as np\n",
    "import math as m\n",
    "import timeit\n",
    "def Mandelung_constant(L):\n",
    "    M = np.zeros((L,L,L))\n",
    "    center = (M.shape[0]//2,M.shape[1]//2,M.shape[2]//2)\n",
    "    grid_x, grid_y, grid_z = np.mgrid[0:M.shape[0], 0:M.shape[1], 0:M.shape[2]]\n",
    "    grid_x = grid_x - center[0]\n",
    "    grid_y = grid_y - center[1]\n",
    "    grid_z = grid_z - center[2]\n",
    "    distances = np.sqrt(grid_x**2+grid_y**2+grid_z**2)\n",
    "    distances = np.divide( (-1.)**(grid_x+grid_y+grid_z+1) ,distances,where=distances!=0 )\n",
    "    return distances.sum()\n",
    "m20=Mandelung_constant(20)\n",
    "    \"\"\"\n",
    "testcode200=\"\"\"\n",
    "import numpy as np\n",
    "import math as m\n",
    "import timeit\n",
    "def Mandelung_constant(L):\n",
    "    M = np.zeros((L,L,L))\n",
    "    center = (M.shape[0]//2,M.shape[1]//2,M.shape[2]//2)\n",
    "    grid_x, grid_y, grid_z = np.mgrid[0:M.shape[0], 0:M.shape[1], 0:M.shape[2]]\n",
    "    grid_x = grid_x - center[0]\n",
    "    grid_y = grid_y - center[1]\n",
    "    grid_z = grid_z - center[2]\n",
    "    distances = np.sqrt(grid_x**2+grid_y**2+grid_z**2)\n",
    "    distances = np.divide( (-1.)**(grid_x+grid_y+grid_z+1) ,distances,where=distances!=0 )\n",
    "    return distances.sum()\n",
    "m200=Mandelung_constant(200)\n",
    "    \"\"\"\n",
    "#TIME IN SECONDS\n",
    "print(\"elapsed time with L=10:\",timeit.timeit(testcode10,number=100)/100)\n",
    "print(\"elapsed tim with L=20:\",timeit.timeit(testcode20,number=100)/100)\n",
    "print(\"elapsed time with L=200:\",timeit.timeit(testcode200,number=30)/30)"
   ]
  },
  {
   "cell_type": "markdown",
   "metadata": {},
   "source": [
    "## Problema 10"
   ]
  },
  {
   "cell_type": "code",
   "execution_count": 295,
   "metadata": {},
   "outputs": [
    {
     "name": "stdout",
     "output_type": "stream",
     "text": [
      "Enter the initial speed in m/s:1\n",
      "Enter the angle respect to the ground in degrees:90\n",
      "Max height= 0.0509683995922528\n"
     ]
    }
   ],
   "source": [
    "ispeed = float(input(\"Enter the initial speed in m/s:\"))\n",
    "itheta = float(input(\"Enter the angle respect to the ground in degrees:\"))\n",
    "gravity = 9.81\n",
    "print(\"Max height=\", (np.sin(itheta*np.pi/180)**2 * ispeed**2)/(2*gravity) )"
   ]
  },
  {
   "cell_type": "markdown",
   "metadata": {},
   "source": [
    "## Problema 11"
   ]
  },
  {
   "cell_type": "code",
   "execution_count": 297,
   "metadata": {},
   "outputs": [
    {
     "name": "stdout",
     "output_type": "stream",
     "text": [
      "enter a1:1\n",
      "enter a2:1\n",
      "enter a3:1\n",
      "enter b1:1\n",
      "enter b2:1\n",
      "enter b3:1\n",
      "enter c1:1\n",
      "enter c2:1\n",
      "enter c3:1\n",
      "A dot BXC= 0.0\n"
     ]
    }
   ],
   "source": [
    "a1=float(input(\"enter a1:\"))\n",
    "a2=float(input(\"enter a2:\"))\n",
    "a3=float(input(\"enter a3:\"))\n",
    "b1=float(input(\"enter b1:\"))\n",
    "b2=float(input(\"enter b2:\"))\n",
    "b3=float(input(\"enter b3:\"))\n",
    "c1=float(input(\"enter c1:\"))\n",
    "c2=float(input(\"enter c2:\"))\n",
    "c3=float(input(\"enter c3:\"))\n",
    "\n",
    "A = np.array([a1,a2,a3])\n",
    "B = np.array([b1,b2,b3])\n",
    "C = np.array([c1,c2,c3])\n",
    "\n",
    "print(\"A dot BXC=\",np.dot(A,np.cross(B,C)))"
   ]
  },
  {
   "cell_type": "markdown",
   "metadata": {},
   "source": [
    "## Problema 12"
   ]
  },
  {
   "cell_type": "code",
   "execution_count": 355,
   "metadata": {},
   "outputs": [],
   "source": [
    "def symmetric_matrix(n):\n",
    "    A=np.random.randint(0,11,size=(n,n))\n",
    "    return A+A.T"
   ]
  },
  {
   "cell_type": "code",
   "execution_count": 356,
   "metadata": {},
   "outputs": [
    {
     "data": {
      "text/plain": [
       "array([[ 8, 12, 10, 14],\n",
       "       [12,  4, 14,  7],\n",
       "       [10, 14, 18,  8],\n",
       "       [14,  7,  8,  0]])"
      ]
     },
     "execution_count": 356,
     "metadata": {},
     "output_type": "execute_result"
    }
   ],
   "source": [
    "symmetric_matrix(4)"
   ]
  },
  {
   "cell_type": "markdown",
   "metadata": {},
   "source": [
    "## Problema 13"
   ]
  },
  {
   "cell_type": "code",
   "execution_count": 405,
   "metadata": {},
   "outputs": [],
   "source": [
    "def Vandermonde(v):\n",
    "    \"\"\"Assumes v a numpy array of shape (1,n), return Vandermonde matrix\"\"\"\n",
    "    A = np.tile(v.transpose(), (1,v.shape[1]) )\n",
    "    for i in range(A.shape[1]):\n",
    "        for j in range(A.shape[0]):\n",
    "            A[i,j] **= j+1\n",
    "    return A"
   ]
  },
  {
   "cell_type": "code",
   "execution_count": 406,
   "metadata": {},
   "outputs": [
    {
     "data": {
      "text/plain": [
       "array([[  1,   1,   1,   1],\n",
       "       [  2,   4,   8,  16],\n",
       "       [  3,   9,  27,  81],\n",
       "       [  4,  16,  64, 256]])"
      ]
     },
     "execution_count": 406,
     "metadata": {},
     "output_type": "execute_result"
    }
   ],
   "source": [
    "Vandermonde(np.array([[1,2,3,4]]))"
   ]
  },
  {
   "cell_type": "markdown",
   "metadata": {},
   "source": [
    "## Problema 14"
   ]
  },
  {
   "cell_type": "code",
   "execution_count": 432,
   "metadata": {},
   "outputs": [],
   "source": [
    "def Tridiagonal(v):\n",
    "    maindiag = np.diag(v)\n",
    "    supdiag = np.diag(v[1:]**2,k=1)\n",
    "    subdiag = np.diag(v[1:]**3,k=-1)\n",
    "    return maindiag + subdiag + supdiag"
   ]
  },
  {
   "cell_type": "code",
   "execution_count": 438,
   "metadata": {},
   "outputs": [],
   "source": [
    "v1 = np.arange(10)\n",
    "v2 = np.arange(1,7,2)\n",
    "v3 = np.arange(-4,4)"
   ]
  },
  {
   "cell_type": "code",
   "execution_count": 439,
   "metadata": {},
   "outputs": [
    {
     "data": {
      "text/plain": [
       "array([[  0,   1,   0,   0,   0,   0,   0,   0,   0,   0],\n",
       "       [  1,   1,   4,   0,   0,   0,   0,   0,   0,   0],\n",
       "       [  0,   8,   2,   9,   0,   0,   0,   0,   0,   0],\n",
       "       [  0,   0,  27,   3,  16,   0,   0,   0,   0,   0],\n",
       "       [  0,   0,   0,  64,   4,  25,   0,   0,   0,   0],\n",
       "       [  0,   0,   0,   0, 125,   5,  36,   0,   0,   0],\n",
       "       [  0,   0,   0,   0,   0, 216,   6,  49,   0,   0],\n",
       "       [  0,   0,   0,   0,   0,   0, 343,   7,  64,   0],\n",
       "       [  0,   0,   0,   0,   0,   0,   0, 512,   8,  81],\n",
       "       [  0,   0,   0,   0,   0,   0,   0,   0, 729,   9]])"
      ]
     },
     "execution_count": 439,
     "metadata": {},
     "output_type": "execute_result"
    }
   ],
   "source": [
    "Tridiagonal(v1)"
   ]
  },
  {
   "cell_type": "code",
   "execution_count": 440,
   "metadata": {},
   "outputs": [
    {
     "data": {
      "text/plain": [
       "array([[  1,   9,   0],\n",
       "       [ 27,   3,  25],\n",
       "       [  0, 125,   5]])"
      ]
     },
     "execution_count": 440,
     "metadata": {},
     "output_type": "execute_result"
    }
   ],
   "source": [
    "Tridiagonal(v2)"
   ]
  },
  {
   "cell_type": "code",
   "execution_count": 441,
   "metadata": {},
   "outputs": [
    {
     "data": {
      "text/plain": [
       "array([[ -4,   9,   0,   0,   0,   0,   0,   0],\n",
       "       [-27,  -3,   4,   0,   0,   0,   0,   0],\n",
       "       [  0,  -8,  -2,   1,   0,   0,   0,   0],\n",
       "       [  0,   0,  -1,  -1,   0,   0,   0,   0],\n",
       "       [  0,   0,   0,   0,   0,   1,   0,   0],\n",
       "       [  0,   0,   0,   0,   1,   1,   4,   0],\n",
       "       [  0,   0,   0,   0,   0,   8,   2,   9],\n",
       "       [  0,   0,   0,   0,   0,   0,  27,   3]])"
      ]
     },
     "execution_count": 441,
     "metadata": {},
     "output_type": "execute_result"
    }
   ],
   "source": [
    "Tridiagonal(v3)"
   ]
  }
 ],
 "metadata": {
  "file_extension": ".py",
  "kernelspec": {
   "display_name": "Python 3.7.5 64-bit ('toughenv': conda)",
   "language": "python",
   "name": "python37564bittoughenvconda10c22ec9b2ab438aab78bd3ff93ae9c0"
  },
  "language_info": {
   "codemirror_mode": {
    "name": "ipython",
    "version": 3
   },
   "file_extension": ".py",
   "mimetype": "text/x-python",
   "name": "python",
   "nbconvert_exporter": "python",
   "pygments_lexer": "ipython3",
   "version": "3.7.5"
  },
  "mimetype": "text/x-python",
  "name": "python",
  "npconvert_exporter": "python",
  "pygments_lexer": "ipython3",
  "version": 3
 },
 "nbformat": 4,
 "nbformat_minor": 2
}
